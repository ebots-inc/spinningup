{
 "cells": [
  {
   "cell_type": "markdown",
   "metadata": {},
   "source": [
    "# test the learned policy by playing back the interaction"
   ]
  },
  {
   "cell_type": "code",
   "execution_count": 1,
   "metadata": {},
   "outputs": [],
   "source": [
    "import time\n",
    "import joblib\n",
    "import os\n",
    "import os.path as osp\n",
    "import tensorflow as tf\n",
    "from spinup import EpochLogger\n",
    "from spinup.utils.logx import restore_tf_graph\n",
    "\n",
    "def load_policy(fpath, itr='last', deterministic=False):\n",
    "\n",
    "    # handle which epoch to load from\n",
    "    if itr=='last':\n",
    "        saves = [int(x[11:]) for x in os.listdir(fpath) if 'simple_save' in x and len(x)>11]\n",
    "        itr = '%d'%max(saves) if len(saves) > 0 else ''\n",
    "    else:\n",
    "        itr = '%d'%itr\n",
    "\n",
    "    # load the things!\n",
    "    sess = tf.Session()\n",
    "    model = restore_tf_graph(sess, osp.join(fpath, 'simple_save'+itr))\n",
    "\n",
    "    # get the correct op for executing actions\n",
    "    if deterministic and 'mu' in model.keys():\n",
    "        # 'deterministic' is only a valid option for SAC policies\n",
    "        print('Using deterministic action op.')\n",
    "        action_op = model['mu']\n",
    "    else:\n",
    "        print('Using default action op.')\n",
    "        action_op = model['pi']\n",
    "\n",
    "    # make function for producing an action given a single state\n",
    "    get_action = lambda x : sess.run(action_op, feed_dict={model['x']: x[None,:]})[0]\n",
    "\n",
    "    # try to load environment from save\n",
    "    # (sometimes this will fail because the environment could not be pickled)\n",
    "    try:\n",
    "        state = joblib.load(osp.join(fpath, 'vars'+itr+'.pkl'))\n",
    "        env = state['env']\n",
    "    except:\n",
    "        env = None\n",
    "\n",
    "    return env, get_action\n",
    "\n",
    "\n",
    "from IPython import display\n",
    "import matplotlib\n",
    "import matplotlib.pyplot as plt\n",
    "\n",
    "\n",
    "def run_policy(env, get_action, max_ep_len=None, num_episodes=100, render=True):\n",
    "\n",
    "    assert env is not None, \\\n",
    "        \"Environment not found!\\n\\n It looks like the environment wasn't saved, \" + \\\n",
    "        \"and we can't run the agent in it. :( \\n\\n Check out the readthedocs \" + \\\n",
    "        \"page on Experiment Outputs for how to handle this situation.\"\n",
    "\n",
    "    logger = EpochLogger()\n",
    "    o, r, d, ep_ret, ep_len, n = env.reset(), 0, False, 0, 0, 0\n",
    "    \n",
    "    img = plt.imshow(env.render(mode='rgb_array')) # only call this once\n",
    "\n",
    "    \n",
    "    while n < num_episodes:\n",
    "        if render:\n",
    "            img.set_data(env.render(mode='rgb_array')) # just update the data\n",
    "            display.display(plt.gcf())\n",
    "            display.clear_output(wait=True)\n",
    "#            time.sleep(1e-3)\n",
    "\n",
    "        a = get_action(o)\n",
    "        o, r, d, _ = env.step(a)\n",
    "        ep_ret += r\n",
    "        ep_len += 1\n",
    "\n",
    "        if d or (ep_len == max_ep_len):\n",
    "            logger.store(EpRet=ep_ret, EpLen=ep_len)\n",
    "            print('Episode %d \\t EpRet %.3f \\t EpLen %d'%(n, ep_ret, ep_len))\n",
    "            o, r, d, ep_ret, ep_len = env.reset(), 0, False, 0, 0\n",
    "            n += 1\n",
    "\n",
    "    logger.log_tabular('EpRet', with_min_and_max=True)\n",
    "    logger.log_tabular('EpLen', average_only=True)\n",
    "    logger.dump_tabular()"
   ]
  },
  {
   "cell_type": "code",
   "execution_count": 2,
   "metadata": {},
   "outputs": [],
   "source": [
    "%matplotlib inline"
   ]
  },
  {
   "cell_type": "code",
   "execution_count": 3,
   "metadata": {},
   "outputs": [
    {
     "name": "stdout",
     "output_type": "stream",
     "text": [
      "Episode 1 \t EpRet -94.926 \t EpLen 358\n",
      "-------------------------------------\n",
      "|    AverageEpRet |            46.1 |\n",
      "|        StdEpRet |             141 |\n",
      "|        MaxEpRet |             187 |\n",
      "|        MinEpRet |           -94.9 |\n",
      "|           EpLen |             440 |\n",
      "-------------------------------------\n"
     ]
    },
    {
     "data": {
      "image/png": "[encoded data removed]",
      "text/plain": [
       "<Figure size 432x288 with 1 Axes>"
      ]
     },
     "metadata": {
      "needs_background": "light"
     },
     "output_type": "display_data"
    }
   ],
   "source": [
    "#fpath = '/app/spinningup/data/installtest/installtest_s0'\n",
    "fpath = '/app/spinningup/data/LunarLanderContinuous-v2-ddpg-bench_lunarlandercontinuous-v2_hid64-64_tanh/LunarLanderContinuous-v2-ddpg-bench_lunarlandercontinuous-v2_hid64-64_tanh_s0'\n",
    "env, get_action = load_policy(fpath, \n",
    "                              'last',\n",
    "                              True)\n",
    "run_policy(env, get_action, 0, 2, True)"
   ]
  },
  {
   "cell_type": "code",
   "execution_count": null,
   "metadata": {},
   "outputs": [],
   "source": []
  }
 ],
 "metadata": {
  "kernelspec": {
   "display_name": "Python 3",
   "language": "python",
   "name": "python3"
  },
  "language_info": {
   "codemirror_mode": {
    "name": "ipython",
    "version": 3
   },
   "file_extension": ".py",
   "mimetype": "text/x-python",
   "name": "python",
   "nbconvert_exporter": "python",
   "pygments_lexer": "ipython3",
   "version": "3.6.7"
  }
 },
 "nbformat": 4,
 "nbformat_minor": 2
}
